{
 "cells": [
  {
   "cell_type": "code",
   "execution_count": 32,
   "id": "832fecfd",
   "metadata": {},
   "outputs": [],
   "source": [
    "# import libraries\n",
    "import pandas as pd"
   ]
  },
  {
   "cell_type": "code",
   "execution_count": 33,
   "id": "fa39a920",
   "metadata": {},
   "outputs": [],
   "source": [
    "# import and merge data sets\n",
    "jeopardy1 = pd.read_csv(\"jeopardy_1.csv\")\n",
    "jeopardy2 = pd.read_csv(\"jeopardy_2.csv\")\n",
    "df = pd.concat([jeopardy1, jeopardy2], axis=0)\n",
    "#print(df.head(5))\n",
    "#print(df.info())"
   ]
  },
  {
   "cell_type": "code",
   "execution_count": 34,
   "id": "7c56af63",
   "metadata": {},
   "outputs": [
    {
     "name": "stdout",
     "output_type": "stream",
     "text": [
      "Index(['Show Number', 'Air Date', 'Round', 'Category', 'Value', 'Question',\n",
      "       'Answer'],\n",
      "      dtype='object')\n"
     ]
    }
   ],
   "source": [
    "# print column names\n",
    "#print(df.columns) ## names for all but first column have leading space\n",
    "\n",
    "# clean column names\n",
    "# rename columns to remove leading space\n",
    "df = df.rename(columns={'Show Number':'Show Number', \n",
    "                        ' Air Date':'Air Date', \n",
    "                        ' Round':'Round', \n",
    "                        ' Category':'Category', \n",
    "                        ' Value':'Value', \n",
    "                        ' Question':'Question', \n",
    "                        ' Answer':'Answer'}) ## safer way to rename\n",
    "print(df.columns) ## check columns"
   ]
  },
  {
   "cell_type": "code",
   "execution_count": 35,
   "id": "d3d636bf",
   "metadata": {},
   "outputs": [],
   "source": [
    "# create function to search question column for specific cues and return a data frame containing only these questions\n",
    "\n",
    "# view types of questions to inform what form search cues should take\n",
    "#print(df.Question)\n",
    "\n",
    "# filter for specific words\n",
    "def word_find(data_frame, words):\n",
    "    filter = lambda x: all(word.lower() in x.lower() for word in words)\n",
    "    return data_frame.loc[data_frame.Question.apply(filter)]\n",
    "\n",
    "# example of function use\n",
    "filtered = word_find(df, [\"king\", \"Henry VIII\"])\n",
    "\n",
    "#print(filtered.Question)\n",
    "#print(len(filtered))"
   ]
  },
  {
   "cell_type": "code",
   "execution_count": 40,
   "id": "ca542688",
   "metadata": {},
   "outputs": [],
   "source": [
    "# modify data in a column to make it easier to analyze\n",
    "\n",
    "# first explore the data in a column to see if special characters exist that will make analysis difficult\n",
    "#print(df.Value)\n",
    "\n",
    "# remove unwanted characters from series in column\n",
    "df['Float_Value'] = df.Value.replace('[\\$]', '', regex=True)\n",
    "df['Float_Value'] = df.Float_Value.replace('[\\,]', '', regex=True)\n",
    "#print(len(df.Value))\n",
    "#print(df.Float_Value) ## check that replace worked\n",
    "\n",
    "# replace na values (here = none) with 0\n",
    "df['Float_Value'] = df.Float_Value.replace('[None]', '0', regex=True)\n",
    "#print(df.Float_Value) ## check that replace worked\n",
    "\n",
    "# convert values in column to int/float\n",
    "df['Float_Value'] = pd.to_numeric(df.Float_Value)\n",
    "#print(df.dtypes) ## conversion worked\n",
    "#print(df['Float_Value'].mean()) ## check mean\n",
    "\n",
    "# this can all be done in 1 line of code with the following:\n",
    "#jeopardy_data[\"Float Value\"] = jeopardy_data[\"Value\"].apply(lambda x: float(x[1:].replace(',','')) if x != \"None\" else 0)"
   ]
  },
  {
   "cell_type": "code",
   "execution_count": 42,
   "id": "14055be6",
   "metadata": {},
   "outputs": [],
   "source": [
    "# determine average value of question containing certain cues\n",
    "\n",
    "# find rows with 'king'\n",
    "filtered = word_find(df, ['king'])\n",
    "\n",
    "# print mean value of questions containing 'king'\n",
    "#print(filtered['Float_Value'].mean())\n",
    "#output: 771.88"
   ]
  },
  {
   "cell_type": "code",
   "execution_count": 45,
   "id": "132df5af",
   "metadata": {},
   "outputs": [],
   "source": [
    "# determine number of times a particular answer is observed based on the cue used above to filter the data set\n",
    "\n",
    "# create function to determine number of unique answer scores\n",
    "def n_unique(data):\n",
    "    return data['Answer'].value_counts()\n",
    "\n",
    "# print number of unique answer scores associated with a filtered word\n",
    "#print(n_unique(filtered))\n",
    "#example: 'Henry VIII' is the answer to 55 questions containing the search cue 'king'"
   ]
  },
  {
   "cell_type": "code",
   "execution_count": 52,
   "id": "0504133e",
   "metadata": {},
   "outputs": [],
   "source": [
    "# identify the number of questions in the data set meeting specific criteria\n",
    "\n",
    "# extract year from 'Air Date' column and add to 'Year' column\n",
    "df['Year']=df['Air Date'].apply(lambda x: x.split('/')[2])\n",
    "#print(df.Year)\n",
    "\n",
    "# How many questions in the 1990s contained the word 'computer'?\n",
    "filtered_data_90s = df[df['Year'].str.startswith('199') & df['Question'].str.contains('computer')]\n",
    "#print(len(filtered_data_90s))\n",
    "#output: 90\n",
    "\n",
    "# How many questions in the 2000s contained the word 'computer'?\n",
    "filtered_data_00s = df[df['Year'].str.startswith('200') & df['Question'].str.contains('computer')]\n",
    "#print(len(filtered_data_00s))\n",
    "#output: 244"
   ]
  },
  {
   "cell_type": "code",
   "execution_count": 54,
   "id": "7fc1329e",
   "metadata": {},
   "outputs": [],
   "source": [
    "# compare rounds and categories by counting the number of questions of each catregory based on round\n",
    "round_cat = df.groupby(['Round', 'Category']).Question.count().reset_index()\n",
    "#print(round_cat)\n",
    "\n",
    "# calculate the number of questions in 'literature' category based on round and return round with highest count\n",
    "maxcount = round_cat[round_cat.Category == 'LITERATURE'].Question.max()\n",
    "#print(maxcount)\n",
    "#output: 381\n",
    "\n",
    "# print the round (and count) countaining the greatest number of questions in the 'literature' category\n",
    "#print(round_cat[round_cat.Question == maxcount])"
   ]
  }
 ],
 "metadata": {
  "kernelspec": {
   "display_name": "Python 3 (ipykernel)",
   "language": "python",
   "name": "python3"
  },
  "language_info": {
   "codemirror_mode": {
    "name": "ipython",
    "version": 3
   },
   "file_extension": ".py",
   "mimetype": "text/x-python",
   "name": "python",
   "nbconvert_exporter": "python",
   "pygments_lexer": "ipython3",
   "version": "3.9.7"
  }
 },
 "nbformat": 4,
 "nbformat_minor": 5
}

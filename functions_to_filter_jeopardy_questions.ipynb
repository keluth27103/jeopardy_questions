{
 "cells": [
  {
   "cell_type": "code",
   "execution_count": 24,
   "id": "832fecfd",
   "metadata": {},
   "outputs": [
    {
     "name": "stderr",
     "output_type": "stream",
     "text": [
      "C:\\Users\\keluth\\AppData\\Local\\Temp/ipykernel_1704/1892886147.py:2: FutureWarning: Passing a negative integer is deprecated in version 1.0 and will not be supported in future version. Instead, use None to not limit the column width.\n",
      "  pd.set_option('display.max_colwidth', -1)\n"
     ]
    }
   ],
   "source": [
    "import pandas as pd\n",
    "pd.set_option('display.max_colwidth', -1)\n",
    "\n",
    "df = pd.read_csv('jeopardy.csv')\n",
    "#print(df.head(5))\n",
    "#print(len(df))"
   ]
  },
  {
   "cell_type": "code",
   "execution_count": 30,
   "id": "4ad1a4d1",
   "metadata": {},
   "outputs": [
    {
     "name": "stdout",
     "output_type": "stream",
     "text": [
      "Index(['Show Number', 'Air Date', 'Round', 'Category', 'Value', 'Question',\n",
      "       'Answer'],\n",
      "      dtype='object')\n"
     ]
    }
   ],
   "source": [
    "#print(df.dtypes) ## check dtypes\n",
    "#print(df.columns) ## all column names have space at start of name\n",
    "#df.columns=['Show Number', 'Air Date', 'Round', 'Category', 'Value', 'Question', 'Answer'] ## rename columns removing the leading space\n",
    "df = df.rename(columns={'Show Number':'Show Number', \n",
    "                        ' Air Date':'Air Date', \n",
    "                        ' Round':'Round', \n",
    "                        ' Category':'Category', \n",
    "                        ' Value':'Value', \n",
    "                        ' Question':'Question', \n",
    "                        ' Answer':'Answer'}) ## safer way to rename\n",
    "print(df.columns) ## check columns"
   ]
  },
  {
   "cell_type": "code",
   "execution_count": 31,
   "id": "d3d636bf",
   "metadata": {},
   "outputs": [],
   "source": [
    "#print(df.Question)\n",
    "\n",
    "# filter for specific words\n",
    "def word_find(data_frame, words):\n",
    "    filter = lambda x: all(word.lower() in x.lower() for word in words)\n",
    "    return data_frame.loc[data_frame.Question.apply(filter)]\n",
    "\n",
    "filtered = word_find(df, [\"king\", \"Henry VIII\"])\n",
    "\n",
    "#print(filtered.Question)\n",
    "#print(len(filtered))"
   ]
  },
  {
   "cell_type": "code",
   "execution_count": 61,
   "id": "ca542688",
   "metadata": {},
   "outputs": [],
   "source": [
    "#print(df.Value)\n",
    "\n",
    "# remove unwanted characters from series in column\n",
    "df['Float_Value'] = df.Value.replace('[\\$]', '', regex=True)\n",
    "df['Float_Value'] = df.Float_Value.replace('[\\,]', '', regex=True)\n",
    "#print(len(df.Value))\n",
    "#print(df.Float_Value) ## check that replace worked\n",
    "\n",
    "# replace na values (here = none) with 0\n",
    "df['Float_Value'] = df.Float_Value.replace('[None]', '0', regex=True)\n",
    "#print(df.Float_Value) ## check that replace worked\n",
    "\n",
    "# convert values in column to int/float\n",
    "df['Float_Value'] = pd.to_numeric(df.Float_Value)\n",
    "#print(df.dtypes) ## conversion worked\n",
    "#print(df['Float_Value'].mean()) ## check mean\n",
    "\n",
    "# this can all be done in 1 line of code with the following:\n",
    "#jeopardy_data[\"Float Value\"] = jeopardy_data[\"Value\"].apply(lambda x: float(x[1:].replace(',','')) if x != \"None\" else 0)"
   ]
  },
  {
   "cell_type": "code",
   "execution_count": 62,
   "id": "14055be6",
   "metadata": {},
   "outputs": [
    {
     "name": "stdout",
     "output_type": "stream",
     "text": [
      "771.8833850722094\n"
     ]
    }
   ],
   "source": [
    "# find rows with 'king'\n",
    "filtered = word_find(df, ['king'])\n",
    "\n",
    "# print mean value of questions containing 'king'\n",
    "print(filtered['Float_Value'].mean())"
   ]
  },
  {
   "cell_type": "code",
   "execution_count": 63,
   "id": "132df5af",
   "metadata": {},
   "outputs": [
    {
     "name": "stdout",
     "output_type": "stream",
     "text": [
      "Henry VIII                   55\n",
      "Solomon                      35\n",
      "Richard III                  33\n",
      "Louis XIV                    31\n",
      "David                        30\n",
      "                             ..\n",
      "cardiac (in card I acted)    1 \n",
      "Henderson                    1 \n",
      "Computer                     1 \n",
      "Indians                      1 \n",
      "work                         1 \n",
      "Name: Answer, Length: 5268, dtype: int64\n"
     ]
    }
   ],
   "source": [
    "# create function to determine number of unique answer scores\n",
    "def n_unique(data):\n",
    "    return data['Answer'].value_counts()\n",
    "\n",
    "# print number of unique answer scores associated with a filtered word\n",
    "print(n_unique(filtered))"
   ]
  },
  {
   "cell_type": "code",
   "execution_count": 64,
   "id": "0504133e",
   "metadata": {},
   "outputs": [
    {
     "name": "stdout",
     "output_type": "stream",
     "text": [
      "90\n",
      "244\n"
     ]
    }
   ],
   "source": [
    "# identify counts meeting specific criteria\n",
    "# How many questions in the 1990s contained the word 'computer'?\n",
    "filtered_data_90s = df[df['Air Date'].str.startswith('199') & df['Question'].str.contains('computer')]\n",
    "print(len(filtered_data_90s))\n",
    "# How many questions in the 2000s contained the word 'computer'?\n",
    "filtered_data_00s = df[df['Air Date'].str.startswith('200') & df['Question'].str.contains('computer')]\n",
    "print(len(filtered_data_00s))"
   ]
  },
  {
   "cell_type": "code",
   "execution_count": 68,
   "id": "7fc1329e",
   "metadata": {},
   "outputs": [
    {
     "name": "stdout",
     "output_type": "stream",
     "text": [
      "381\n",
      "                 Round    Category  Question\n",
      "7495  Double Jeopardy!  LITERATURE  381     \n"
     ]
    }
   ],
   "source": [
    "#print(df.head(40))\n",
    "\n",
    "# compare rounds and categories by counting the number of questions of each catregory based on round\n",
    "round_cat = df.groupby(['Round', 'Category']).Question.count().reset_index()\n",
    "#print(round_cat)\n",
    "\n",
    "# calculate the number of questions in 'literature' category based on round and return round with highest count\n",
    "maxcount = round_cat[round_cat.Category == 'LITERATURE'].Question.max()\n",
    "print(maxcount)\n",
    "\n",
    "# print the round (and count) countaining the greatest number of questions in the 'literature' category\n",
    "print(round_cat[round_cat.Question == maxcount])"
   ]
  }
 ],
 "metadata": {
  "kernelspec": {
   "display_name": "Python 3 (ipykernel)",
   "language": "python",
   "name": "python3"
  },
  "language_info": {
   "codemirror_mode": {
    "name": "ipython",
    "version": 3
   },
   "file_extension": ".py",
   "mimetype": "text/x-python",
   "name": "python",
   "nbconvert_exporter": "python",
   "pygments_lexer": "ipython3",
   "version": "3.9.7"
  }
 },
 "nbformat": 4,
 "nbformat_minor": 5
}
